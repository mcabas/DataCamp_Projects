{
 "cells": [
  {
   "cell_type": "markdown",
   "metadata": {},
   "source": [
    "# **Project: Visualizing the History of Nobel Prize Winners**\n",
    "\n",
    "The Nobel Prize has been among the most prestigious international awards since 1901. Each year, awards are bestowed in chemistry, literature, physics, physiology or medicine, economics, and peace. In addition to the honor, prestige, and substantial prize money, the recipient also gets a gold medal with an image of Alfred Nobel (1833 - 1896), who established the prize.\n",
    "\n",
    "The Nobel Foundation has made a dataset available of all prize winners from the outset of the awards from 1901 to 2023. The dataset used in this project is from the Nobel Prize API and is available in the nobel.csv file in the data folder.\n",
    "\n",
    "In this project, you'll get a chance to explore and answer several questions related to this prizewinning data. And we encourage you then to explore further questions that you're interested in!"
   ]
  },
  {
   "cell_type": "markdown",
   "metadata": {},
   "source": [
    "#### TASK: Analyze Nobel Prize winner data and identify patterns by answering the following questions:\n",
    "\n",
    "##### 1. What is the most commonly awarded gender and birth country?\n",
    "\n",
    "Store your answers as string variables top_gender and top_country.\n",
    "\n",
    "##### 2. Which decade had the highest ratio of US-born Nobel Prize winners to total winners in all categories?\n",
    "\n",
    "Store this as an integer called max_decade_usa.\n",
    "\n",
    "##### 3. Which decade and Nobel Prize category combination had the highest proportion of female laureates?\n",
    "\n",
    "Store this as a dictionary called max_female_dict where the decade is the key and the category is the value. There should only be one key:value pair.\n",
    "\n",
    "##### 4. Who was the first woman to receive a Nobel Prize, and in what category?\n",
    "\n",
    "Save your string answers as first_woman_name and first_woman_category.\n",
    "\n",
    "##### 5. Which individuals or organizations have won more than one Nobel Prize throughout the years?\n",
    "\n",
    "Store the full names in a list named repeat_list."
   ]
  },
  {
   "cell_type": "code",
   "execution_count": 2,
   "metadata": {},
   "outputs": [
    {
     "data": {
      "text/html": [
       "<div>\n",
       "<style scoped>\n",
       "    .dataframe tbody tr th:only-of-type {\n",
       "        vertical-align: middle;\n",
       "    }\n",
       "\n",
       "    .dataframe tbody tr th {\n",
       "        vertical-align: top;\n",
       "    }\n",
       "\n",
       "    .dataframe thead th {\n",
       "        text-align: right;\n",
       "    }\n",
       "</style>\n",
       "<table border=\"1\" class=\"dataframe\">\n",
       "  <thead>\n",
       "    <tr style=\"text-align: right;\">\n",
       "      <th></th>\n",
       "      <th>year</th>\n",
       "      <th>category</th>\n",
       "      <th>prize</th>\n",
       "      <th>motivation</th>\n",
       "      <th>prize_share</th>\n",
       "      <th>laureate_id</th>\n",
       "      <th>laureate_type</th>\n",
       "      <th>full_name</th>\n",
       "      <th>birth_date</th>\n",
       "      <th>birth_city</th>\n",
       "      <th>birth_country</th>\n",
       "      <th>sex</th>\n",
       "      <th>organization_name</th>\n",
       "      <th>organization_city</th>\n",
       "      <th>organization_country</th>\n",
       "      <th>death_date</th>\n",
       "      <th>death_city</th>\n",
       "      <th>death_country</th>\n",
       "    </tr>\n",
       "  </thead>\n",
       "  <tbody>\n",
       "    <tr>\n",
       "      <th>0</th>\n",
       "      <td>1901</td>\n",
       "      <td>Chemistry</td>\n",
       "      <td>The Nobel Prize in Chemistry 1901</td>\n",
       "      <td>\"in recognition of the extraordinary services ...</td>\n",
       "      <td>1/1</td>\n",
       "      <td>160</td>\n",
       "      <td>Individual</td>\n",
       "      <td>Jacobus Henricus van 't Hoff</td>\n",
       "      <td>1852-08-30</td>\n",
       "      <td>Rotterdam</td>\n",
       "      <td>Netherlands</td>\n",
       "      <td>Male</td>\n",
       "      <td>Berlin University</td>\n",
       "      <td>Berlin</td>\n",
       "      <td>Germany</td>\n",
       "      <td>1911-03-01</td>\n",
       "      <td>Berlin</td>\n",
       "      <td>Germany</td>\n",
       "    </tr>\n",
       "    <tr>\n",
       "      <th>1</th>\n",
       "      <td>1901</td>\n",
       "      <td>Literature</td>\n",
       "      <td>The Nobel Prize in Literature 1901</td>\n",
       "      <td>\"in special recognition of his poetic composit...</td>\n",
       "      <td>1/1</td>\n",
       "      <td>569</td>\n",
       "      <td>Individual</td>\n",
       "      <td>Sully Prudhomme</td>\n",
       "      <td>1839-03-16</td>\n",
       "      <td>Paris</td>\n",
       "      <td>France</td>\n",
       "      <td>Male</td>\n",
       "      <td>NaN</td>\n",
       "      <td>NaN</td>\n",
       "      <td>NaN</td>\n",
       "      <td>1907-09-07</td>\n",
       "      <td>Châtenay</td>\n",
       "      <td>France</td>\n",
       "    </tr>\n",
       "  </tbody>\n",
       "</table>\n",
       "</div>"
      ],
      "text/plain": [
       "   year    category                               prize  \\\n",
       "0  1901   Chemistry   The Nobel Prize in Chemistry 1901   \n",
       "1  1901  Literature  The Nobel Prize in Literature 1901   \n",
       "\n",
       "                                          motivation prize_share  laureate_id  \\\n",
       "0  \"in recognition of the extraordinary services ...         1/1          160   \n",
       "1  \"in special recognition of his poetic composit...         1/1          569   \n",
       "\n",
       "  laureate_type                     full_name  birth_date birth_city  \\\n",
       "0    Individual  Jacobus Henricus van 't Hoff  1852-08-30  Rotterdam   \n",
       "1    Individual               Sully Prudhomme  1839-03-16      Paris   \n",
       "\n",
       "  birth_country   sex  organization_name organization_city  \\\n",
       "0   Netherlands  Male  Berlin University            Berlin   \n",
       "1        France  Male                NaN               NaN   \n",
       "\n",
       "  organization_country  death_date death_city death_country  \n",
       "0              Germany  1911-03-01     Berlin       Germany  \n",
       "1                  NaN  1907-09-07   Châtenay        France  "
      ]
     },
     "execution_count": 2,
     "metadata": {},
     "output_type": "execute_result"
    }
   ],
   "source": [
    "# Loading in required libraries\n",
    "\n",
    "import os\n",
    "import pandas as pd\n",
    "import seaborn as sns\n",
    "import numpy as np\n",
    "\n",
    "# Reading in the Nobel Prize data\n",
    "# build read_csv function\n",
    "folder_name = 'datasets'\n",
    "dir = r'C:\\Users\\mcaba\\OneDrive\\Escritorio\\Data Science\\Datacamp_Projects\\DataCamp_Projects\\{}'.format(folder_name)\n",
    "\n",
    "def read_csv_fun(folder_name,file_name, path):\n",
    "    path = dir\n",
    "    os.chdir(path)\n",
    "    df = pd.read_csv('{}.csv'.format(file_name), sep=',', low_memory=False, on_bad_lines='skip')\n",
    "    return df\n",
    "\n",
    "nobel = read_csv_fun('datasets','nobel', dir)\n",
    "\n",
    "# Taking a look at the first several winners\n",
    "nobel.head(2)"
   ]
  },
  {
   "cell_type": "code",
   "execution_count": 15,
   "metadata": {},
   "outputs": [
    {
     "name": "stdout",
     "output_type": "stream",
     "text": [
      "<class 'pandas.core.frame.DataFrame'>\n",
      "RangeIndex: 1000 entries, 0 to 999\n",
      "Data columns (total 18 columns):\n",
      " #   Column                Non-Null Count  Dtype \n",
      "---  ------                --------------  ----- \n",
      " 0   year                  1000 non-null   int64 \n",
      " 1   category              1000 non-null   object\n",
      " 2   prize                 1000 non-null   object\n",
      " 3   motivation            912 non-null    object\n",
      " 4   prize_share           1000 non-null   object\n",
      " 5   laureate_id           1000 non-null   int64 \n",
      " 6   laureate_type         1000 non-null   object\n",
      " 7   full_name             1000 non-null   object\n",
      " 8   birth_date            968 non-null    object\n",
      " 9   birth_city            964 non-null    object\n",
      " 10  birth_country         969 non-null    object\n",
      " 11  sex                   970 non-null    object\n",
      " 12  organization_name     736 non-null    object\n",
      " 13  organization_city     735 non-null    object\n",
      " 14  organization_country  735 non-null    object\n",
      " 15  death_date            596 non-null    object\n",
      " 16  death_city            579 non-null    object\n",
      " 17  death_country         585 non-null    object\n",
      "dtypes: int64(2), object(16)\n",
      "memory usage: 140.8+ KB\n"
     ]
    }
   ],
   "source": [
    "nobel.info()"
   ]
  },
  {
   "cell_type": "code",
   "execution_count": 3,
   "metadata": {},
   "outputs": [],
   "source": [
    "# Loading in required libraries\n",
    "import pandas as pd\n",
    "import seaborn as sns\n",
    "import numpy as np\n",
    "\n",
    "# Start coding here!"
   ]
  },
  {
   "cell_type": "code",
   "execution_count": 4,
   "metadata": {},
   "outputs": [
    {
     "data": {
      "text/plain": [
       "Male      905\n",
       "Female     65\n",
       "Name: sex, dtype: int64"
      ]
     },
     "metadata": {},
     "output_type": "display_data"
    },
    {
     "data": {
      "text/plain": [
       "United States of America    291\n",
       "United Kingdom               91\n",
       "Germany                      67\n",
       "France                       58\n",
       "Sweden                       30\n",
       "Japan                        28\n",
       "Canada                       21\n",
       "Switzerland                  19\n",
       "Netherlands                  19\n",
       "Italy                        18\n",
       "Name: birth_country, dtype: int64"
      ]
     },
     "execution_count": 4,
     "metadata": {},
     "output_type": "execute_result"
    }
   ],
   "source": [
    "# 1. What is the most commonly awarded gender and birth country?\n",
    "\n",
    "# Display the number of prizes won by male and female recipients.\n",
    "display(nobel['sex'].value_counts())\n",
    "\n",
    "# Display the number of prizes won by the top 10 nationalities.\n",
    "nobel['birth_country'].value_counts().head(10)"
   ]
  },
  {
   "cell_type": "code",
   "execution_count": 9,
   "metadata": {},
   "outputs": [
    {
     "name": "stdout",
     "output_type": "stream",
     "text": [
      "      sex  sex_count\n",
      "0  Female         65\n",
      "1    Male        905\n"
     ]
    }
   ],
   "source": [
    "nobel_groupby_sex = nobel.groupby(\"sex\").agg(\n",
    "    # \"sex_count\" - the number of prizes won by male and female recipients.\n",
    "    sex_count = (\"sex\", \"count\")\n",
    "\n",
    ")\n",
    "\n",
    "nobel_groupby_sex_ni = nobel_groupby_sex.reset_index()\n",
    "#nobel_groupby_sex_ni_sorted = nobel_groupby_sex_ni.sort_values('count', ascending=False)\n",
    "print(nobel_groupby_sex_ni)"
   ]
  },
  {
   "cell_type": "code",
   "execution_count": 10,
   "metadata": {},
   "outputs": [
    {
     "name": "stdout",
     "output_type": "stream",
     "text": [
      "Male\n"
     ]
    }
   ],
   "source": [
    "top_gender = nobel_groupby_sex_ni.loc[nobel_groupby_sex_ni['sex_count'].idxmax(), 'sex']\n",
    "print(top_gender)"
   ]
  },
  {
   "cell_type": "code",
   "execution_count": 14,
   "metadata": {},
   "outputs": [
    {
     "name": "stdout",
     "output_type": "stream",
     "text": [
      "Male\n",
      "United States of America\n"
     ]
    }
   ],
   "source": [
    "top_gender = nobel['sex'].value_counts().index[0]\n",
    "print(top_gender)\n",
    "\n",
    "top_country = nobel['birth_country'].value_counts().index[0]\n",
    "print(top_country)"
   ]
  },
  {
   "cell_type": "code",
   "execution_count": 23,
   "metadata": {},
   "outputs": [
    {
     "data": {
      "text/plain": [
       "1900     57\n",
       "1910     40\n",
       "1920     54\n",
       "1930     56\n",
       "1940     43\n",
       "1950     72\n",
       "1960     79\n",
       "1970    104\n",
       "1980     97\n",
       "1990    104\n",
       "2000    123\n",
       "2010    121\n",
       "2020     50\n",
       "Name: decade, dtype: int64"
      ]
     },
     "metadata": {},
     "output_type": "display_data"
    }
   ],
   "source": [
    "# 2. Which decade had the highest ratio of US-born Nobel Prize winners to total winners in all categories?\n",
    "\n",
    "nobel['decade'] = (nobel['year'] // 10) * 10\n",
    "display(nobel['decade'].value_counts(sort=False))"
   ]
  },
  {
   "cell_type": "code",
   "execution_count": 26,
   "metadata": {},
   "outputs": [
    {
     "name": "stdout",
     "output_type": "stream",
     "text": [
      "     decade                     birth_country  num_prizes\n",
      "0      1900  Austrian Empire (Czech Republic)           1\n",
      "1      1900           Austrian Empire (Italy)           1\n",
      "2      1900                 Bavaria (Germany)           1\n",
      "3      1900                           Belgium           1\n",
      "4      1900             British India (India)           1\n",
      "..      ...                               ...         ...\n",
      "358    2020                            Russia           1\n",
      "359    2020                            Sweden           1\n",
      "360    2020                 USSR (now Russia)           2\n",
      "361    2020                    United Kingdom           3\n",
      "362    2020          United States of America          18\n",
      "\n",
      "[363 rows x 3 columns]\n"
     ]
    }
   ],
   "source": [
    "nobel_grouped = nobel.groupby([\"decade\",\"birth_country\"]).agg(\n",
    "    # \"num_prizes\" - the number of nobel prizes\n",
    "    num_prizes = (\"prize\", \"count\"),\n",
    ")\n",
    "\n",
    "nobel_grouped_index = nobel_grouped.reset_index()\n",
    "print(nobel_grouped_index)"
   ]
  },
  {
   "cell_type": "code",
   "execution_count": 41,
   "metadata": {},
   "outputs": [
    {
     "name": "stdout",
     "output_type": "stream",
     "text": [
      "     decade             birth_country  num_prizes\n",
      "32     1900  United States of America           1\n",
      "51     1910  United States of America           3\n",
      "71     1920  United States of America           4\n",
      "90     1930  United States of America          14\n",
      "111    1940  United States of America          13\n",
      "136    1950  United States of America          21\n",
      "167    1960  United States of America          21\n",
      "199    1970  United States of America          33\n",
      "235    1980  United States of America          31\n",
      "270    1990  United States of America          42\n",
      "306    2000  United States of America          52\n",
      "342    2010  United States of America          38\n",
      "362    2020  United States of America          18\n",
      "     decade             birth_country  num_prizes\n",
      "306    2000  United States of America          52\n"
     ]
    }
   ],
   "source": [
    "nobel_grouped_index_US = nobel_grouped_index[nobel_grouped_index[\"birth_country\"] == 'United States of America']\n",
    "print(nobel_grouped_index_US)\n",
    "\n",
    "nobel_grouped_index_US_max = nobel_grouped_index_US[(nobel_grouped_index_US['num_prizes'] == nobel_grouped_index_US['num_prizes'].max())]\n",
    "print(nobel_grouped_index_US_max)"
   ]
  },
  {
   "cell_type": "code",
   "execution_count": 43,
   "metadata": {},
   "outputs": [
    {
     "name": "stdout",
     "output_type": "stream",
     "text": [
      "2000\n"
     ]
    }
   ],
   "source": [
    "max_decade_usa = nobel_grouped_index_US_max['decade'].iloc[0]\n",
    "print(max_decade_usa)"
   ]
  },
  {
   "cell_type": "code",
   "execution_count": null,
   "metadata": {},
   "outputs": [
    {
     "name": "stdout",
     "output_type": "stream",
     "text": [
      "    decade    category  num_fem_w  total_w\n",
      "0     1900   Chemistry          0        9\n",
      "1     1900  Literature          1       10\n",
      "2     1900    Medicine          0       11\n",
      "3     1900       Peace          1       13\n",
      "4     1900     Physics          1       13\n",
      "..     ...         ...        ...      ...\n",
      "67    2020   Economics          1        9\n",
      "68    2020  Literature          2        4\n",
      "69    2020    Medicine          1        8\n",
      "70    2020       Peace          2        4\n",
      "71    2020     Physics          2       12\n",
      "\n",
      "[72 rows x 4 columns]\n"
     ]
    }
   ],
   "source": [
    "# 3. Which decade and Nobel Prize category combination had the highest proportion of female laureates?\n",
    "\n",
    "nobel['is_female_w'] = nobel['sex'].apply(\n",
    "    lambda x: 1 if x == 'Female' else 0\n",
    ")\n",
    "\n",
    "nobel_grouped_cat = nobel.groupby([\"decade\",\"category\"]).agg(\n",
    "    # \"num_fem_w\" - the number of females nobel laurates\n",
    "    num_fem_w = (\"is_female_w\", \"sum\"),\n",
    "    # \"total_w\" - the number of total nobel laurates regarding the gender\n",
    "    total_w = (\"sex\", \"count\")\n",
    ")\n",
    "\n",
    "nobel_grouped_cat_index = nobel_grouped_cat.reset_index()\n",
    "print(nobel_grouped_cat_index)"
   ]
  },
  {
   "cell_type": "code",
   "execution_count": 49,
   "metadata": {},
   "outputs": [
    {
     "name": "stdout",
     "output_type": "stream",
     "text": [
      "    decade    category  num_fem_w  total_w  ratio\n",
      "0     1900   Chemistry          0        9   0.00\n",
      "1     1900  Literature          1       10   0.10\n",
      "2     1900    Medicine          0       11   0.00\n",
      "3     1900       Peace          1       13   0.08\n",
      "4     1900     Physics          1       13   0.08\n",
      "..     ...         ...        ...      ...    ...\n",
      "67    2020   Economics          1        9   0.11\n",
      "68    2020  Literature          2        4   0.50\n",
      "69    2020    Medicine          1        8   0.12\n",
      "70    2020       Peace          2        4   0.50\n",
      "71    2020     Physics          2       12   0.17\n",
      "\n",
      "[72 rows x 5 columns]\n",
      "    decade    category  num_fem_w  total_w  ratio\n",
      "64    2010       Peace          5       10    0.5\n",
      "68    2020  Literature          2        4    0.5\n",
      "70    2020       Peace          2        4    0.5\n"
     ]
    }
   ],
   "source": [
    "nobel_grouped_cat_index['ratio'] = (nobel_grouped_cat_index['num_fem_w'] / nobel_grouped_cat_index['total_w']).round(2)\n",
    "print(nobel_grouped_cat_index)\n",
    "\n",
    "max_ratio_fem_w = nobel_grouped_cat_index[(nobel_grouped_cat_index['ratio'] == nobel_grouped_cat_index['ratio'].max())]\n",
    "print(max_ratio_fem_w)"
   ]
  },
  {
   "cell_type": "code",
   "execution_count": 51,
   "metadata": {},
   "outputs": [
    {
     "name": "stdout",
     "output_type": "stream",
     "text": [
      "{2010: 'Peace'}\n"
     ]
    }
   ],
   "source": [
    "max_female_dict = {\n",
    "    int(max_ratio_fem_w.iloc[0]['decade']): max_ratio_fem_w.iloc[0]['category']\n",
    "}\n",
    "print(max_female_dict)"
   ]
  },
  {
   "cell_type": "code",
   "execution_count": 56,
   "metadata": {},
   "outputs": [
    {
     "name": "stdout",
     "output_type": "stream",
     "text": [
      "{2010: 'Peace', 2020: 'Literature'}\n"
     ]
    }
   ],
   "source": [
    "max_female_dict = dict(zip(max_ratio_fem_w.drop_duplicates('decade')['decade'].astype(int),\n",
    "                         max_ratio_fem_w.drop_duplicates('decade')['category']))\n",
    "print(max_female_dict)"
   ]
  },
  {
   "cell_type": "code",
   "execution_count": 58,
   "metadata": {},
   "outputs": [
    {
     "name": "stdout",
     "output_type": "stream",
     "text": [
      "{2010: ['Peace'], 2020: ['Literature', 'Peace']}\n"
     ]
    }
   ],
   "source": [
    "max_female_dict = {}\n",
    "for _, row in max_ratio_fem_w.iterrows():\n",
    "    decade = int(row['decade'])\n",
    "    category = row['category']\n",
    "    if decade in max_female_dict:\n",
    "        max_female_dict[decade].append(category)\n",
    "    else:\n",
    "        max_female_dict[decade] = [category]\n",
    "\n",
    "print(max_female_dict)"
   ]
  },
  {
   "cell_type": "code",
   "execution_count": 80,
   "metadata": {},
   "outputs": [
    {
     "name": "stdout",
     "output_type": "stream",
     "text": [
      "{'decade': {64: 2010, 68: 2020, 70: 2020}, 'category': {64: 'Peace', 68: 'Literature', 70: 'Peace'}}\n"
     ]
    }
   ],
   "source": [
    "max_female_dict = max_ratio_fem_w[['decade','category']].to_dict()\n",
    "print(max_female_dict)"
   ]
  },
  {
   "cell_type": "code",
   "execution_count": 69,
   "metadata": {},
   "outputs": [
    {
     "name": "stdout",
     "output_type": "stream",
     "text": [
      "    year                    full_name category\n",
      "19  1903  Marie Curie, née Sklodowska  Physics\n",
      "Marie Curie, née Sklodowska\n",
      "Physics\n"
     ]
    }
   ],
   "source": [
    "# 4. Who was the first woman to receive a Nobel Prize, and in what category?\n",
    "\n",
    "nobel_women = nobel[(nobel['sex'] == 'Female')].sort_values('year', ascending=True)\n",
    "F1rst_women = nobel_women[['year', 'full_name', 'category']].head(1)\n",
    "print(F1rst_women)\n",
    "\n",
    "first_woman_name = F1rst_women['full_name'].iloc[0]\n",
    "print(first_woman_name)\n",
    "first_woman_category = F1rst_women['category'].iloc[0]\n",
    "print(first_woman_category)"
   ]
  },
  {
   "cell_type": "code",
   "execution_count": 71,
   "metadata": {},
   "outputs": [
    {
     "name": "stdout",
     "output_type": "stream",
     "text": [
      "             full_name  num_prize\n",
      "0    A. Michael Spence          1\n",
      "1      Aage Niels Bohr          1\n",
      "2    Aaron Ciechanover          1\n",
      "3           Aaron Klug          1\n",
      "4    Abdulrazak Gurnah          1\n",
      "..                 ...        ...\n",
      "988          Youyou Tu          1\n",
      "989        Yuan T. Lee          1\n",
      "990       Yves Chauvin          1\n",
      "991  Zhores I. Alferov          1\n",
      "992      Élie Ducommun          1\n",
      "\n",
      "[993 rows x 2 columns]\n"
     ]
    }
   ],
   "source": [
    "# 5. Which individuals or organizations have won more than one Nobel Prize throughout the years?\n",
    "\n",
    "nobel_grouped_name = nobel.groupby([\"full_name\"]).agg(\n",
    "    # \"num_prize\" - the number of prizes per name\n",
    "    num_prize = (\"prize\", \"count\")\n",
    ")\n",
    "nobel_grouped_name_ix = nobel_grouped_name.reset_index()\n",
    "print(nobel_grouped_name_ix)"
   ]
  },
  {
   "cell_type": "code",
   "execution_count": 81,
   "metadata": {},
   "outputs": [
    {
     "name": "stdout",
     "output_type": "stream",
     "text": [
      "                                             full_name  num_prize\n",
      "162  Comité international de la Croix Rouge (Intern...          3\n",
      "284                                   Frederick Sanger          2\n",
      "480                                       John Bardeen          2\n",
      "576                                 Linus Carl Pauling          2\n",
      "601                        Marie Curie, née Sklodowska          2\n",
      "672  Office of the United Nations High Commissioner...          2\n"
     ]
    },
    {
     "data": {
      "text/plain": [
       "['Comité international de la Croix Rouge (International Committee of the Red Cross)',\n",
       " 'Frederick Sanger',\n",
       " 'John Bardeen',\n",
       " 'Linus Carl Pauling',\n",
       " 'Marie Curie, née Sklodowska',\n",
       " 'Office of the United Nations High Commissioner for Refugees (UNHCR)']"
      ]
     },
     "metadata": {},
     "output_type": "display_data"
    }
   ],
   "source": [
    "repeated_nobels = nobel_grouped_name_ix[(nobel_grouped_name_ix['num_prize'] > 1)]\n",
    "print(repeated_nobels)\n",
    "\n",
    "repeat_list = repeated_nobels['full_name'].to_list()\n",
    "display(repeat_list)"
   ]
  }
 ],
 "metadata": {
  "kernelspec": {
   "display_name": "Python 3",
   "language": "python",
   "name": "python3"
  },
  "language_info": {
   "codemirror_mode": {
    "name": "ipython",
    "version": 3
   },
   "file_extension": ".py",
   "mimetype": "text/x-python",
   "name": "python",
   "nbconvert_exporter": "python",
   "pygments_lexer": "ipython3",
   "version": "3.10.0"
  }
 },
 "nbformat": 4,
 "nbformat_minor": 2
}
