{
 "cells": [
  {
   "cell_type": "markdown",
   "metadata": {},
   "source": [
    "# **Project: Investigating Netflix Movies**\n",
    "\n",
    "![Netflix](datasets/netflix_image.jpg)\n",
    "\n",
    "**Netflix**! What started in 1997 as a DVD rental service has since exploded into one of the largest entertainment and media companies.\n",
    "\n",
    "Given the large number of movies and series available on the platform, it is a perfect opportunity to flex your exploratory data analysis skills and dive into the entertainment industry.\n",
    "\n",
    "You work for a production company that specializes in nostalgic styles. You want to do some research on movies released in the 1990's. You'll delve into Netflix data and perform exploratory data analysis to better understand this awesome movie decade!\n",
    "\n",
    "You have been supplied with the dataset `netflix_data.csv`, along with the following table detailing the column names and descriptions. Feel free to experiment further after submitting!\n",
    "\n",
    "## The data\n",
    "### **netflix_data.csv**\n",
    "| Column | Description |\n",
    "|--------|-------------|\n",
    "| `show_id` | The ID of the show |\n",
    "| `type` | Type of show |\n",
    "| `title` | Title of the show |\n",
    "| `director` | Director of the show |\n",
    "| `cast` | Cast of the show |\n",
    "| `country` | Country of origin |\n",
    "| `date_added` | Date added to Netflix |\n",
    "| `release_year` | Year of Netflix release |\n",
    "| `duration` | Duration of the show in minutes |\n",
    "| `description` | Description of the show |\n",
    "| `genre` | Show genre |"
   ]
  },
  {
   "cell_type": "markdown",
   "metadata": {},
   "source": [
    "## TASK: Perform exploratory data analysis on the netflix_data.csv data to understand more about movies from the 1990s decade.\n",
    "\n",
    "What was the most frequent movie duration in the 1990s? Save an approximate answer as an integer called duration (use 1990 as the decade's start year).\n",
    "\n",
    "A movie is considered short if it is less than 90 minutes. Count the number of short action movies released in the 1990s and save this integer as short_movie_count.\n",
    "\n",
    "Feel free to experiment after submitting the project!"
   ]
  },
  {
   "cell_type": "code",
   "execution_count": 5,
   "metadata": {},
   "outputs": [
    {
     "data": {
      "text/html": [
       "<div>\n",
       "<style scoped>\n",
       "    .dataframe tbody tr th:only-of-type {\n",
       "        vertical-align: middle;\n",
       "    }\n",
       "\n",
       "    .dataframe tbody tr th {\n",
       "        vertical-align: top;\n",
       "    }\n",
       "\n",
       "    .dataframe thead th {\n",
       "        text-align: right;\n",
       "    }\n",
       "</style>\n",
       "<table border=\"1\" class=\"dataframe\">\n",
       "  <thead>\n",
       "    <tr style=\"text-align: right;\">\n",
       "      <th></th>\n",
       "      <th>show_id</th>\n",
       "      <th>type</th>\n",
       "      <th>title</th>\n",
       "      <th>director</th>\n",
       "      <th>cast</th>\n",
       "      <th>country</th>\n",
       "      <th>date_added</th>\n",
       "      <th>release_year</th>\n",
       "      <th>duration</th>\n",
       "      <th>description</th>\n",
       "      <th>genre</th>\n",
       "    </tr>\n",
       "  </thead>\n",
       "  <tbody>\n",
       "    <tr>\n",
       "      <th>0</th>\n",
       "      <td>s2</td>\n",
       "      <td>Movie</td>\n",
       "      <td>7:19</td>\n",
       "      <td>Jorge Michel Grau</td>\n",
       "      <td>Demián Bichir, Héctor Bonilla, Oscar Serrano, ...</td>\n",
       "      <td>Mexico</td>\n",
       "      <td>December 23, 2016</td>\n",
       "      <td>2016</td>\n",
       "      <td>93</td>\n",
       "      <td>After a devastating earthquake hits Mexico Cit...</td>\n",
       "      <td>Dramas</td>\n",
       "    </tr>\n",
       "    <tr>\n",
       "      <th>1</th>\n",
       "      <td>s3</td>\n",
       "      <td>Movie</td>\n",
       "      <td>23:59</td>\n",
       "      <td>Gilbert Chan</td>\n",
       "      <td>Tedd Chan, Stella Chung, Henley Hii, Lawrence ...</td>\n",
       "      <td>Singapore</td>\n",
       "      <td>December 20, 2018</td>\n",
       "      <td>2011</td>\n",
       "      <td>78</td>\n",
       "      <td>When an army recruit is found dead, his fellow...</td>\n",
       "      <td>Horror Movies</td>\n",
       "    </tr>\n",
       "    <tr>\n",
       "      <th>2</th>\n",
       "      <td>s4</td>\n",
       "      <td>Movie</td>\n",
       "      <td>9</td>\n",
       "      <td>Shane Acker</td>\n",
       "      <td>Elijah Wood, John C. Reilly, Jennifer Connelly...</td>\n",
       "      <td>United States</td>\n",
       "      <td>November 16, 2017</td>\n",
       "      <td>2009</td>\n",
       "      <td>80</td>\n",
       "      <td>In a postapocalyptic world, rag-doll robots hi...</td>\n",
       "      <td>Action</td>\n",
       "    </tr>\n",
       "    <tr>\n",
       "      <th>3</th>\n",
       "      <td>s5</td>\n",
       "      <td>Movie</td>\n",
       "      <td>21</td>\n",
       "      <td>Robert Luketic</td>\n",
       "      <td>Jim Sturgess, Kevin Spacey, Kate Bosworth, Aar...</td>\n",
       "      <td>United States</td>\n",
       "      <td>January 1, 2020</td>\n",
       "      <td>2008</td>\n",
       "      <td>123</td>\n",
       "      <td>A brilliant group of students become card-coun...</td>\n",
       "      <td>Dramas</td>\n",
       "    </tr>\n",
       "    <tr>\n",
       "      <th>4</th>\n",
       "      <td>s6</td>\n",
       "      <td>TV Show</td>\n",
       "      <td>46</td>\n",
       "      <td>Serdar Akar</td>\n",
       "      <td>Erdal Beşikçioğlu, Yasemin Allen, Melis Birkan...</td>\n",
       "      <td>Turkey</td>\n",
       "      <td>July 1, 2017</td>\n",
       "      <td>2016</td>\n",
       "      <td>1</td>\n",
       "      <td>A genetics professor experiments with a treatm...</td>\n",
       "      <td>International TV</td>\n",
       "    </tr>\n",
       "    <tr>\n",
       "      <th>5</th>\n",
       "      <td>s7</td>\n",
       "      <td>Movie</td>\n",
       "      <td>122</td>\n",
       "      <td>Yasir Al Yasiri</td>\n",
       "      <td>Amina Khalil, Ahmed Dawood, Tarek Lotfy, Ahmed...</td>\n",
       "      <td>Egypt</td>\n",
       "      <td>June 1, 2020</td>\n",
       "      <td>2019</td>\n",
       "      <td>95</td>\n",
       "      <td>After an awful accident, a couple admitted to ...</td>\n",
       "      <td>Horror Movies</td>\n",
       "    </tr>\n",
       "  </tbody>\n",
       "</table>\n",
       "</div>"
      ],
      "text/plain": [
       "  show_id     type  title           director  \\\n",
       "0      s2    Movie   7:19  Jorge Michel Grau   \n",
       "1      s3    Movie  23:59       Gilbert Chan   \n",
       "2      s4    Movie      9        Shane Acker   \n",
       "3      s5    Movie     21     Robert Luketic   \n",
       "4      s6  TV Show     46        Serdar Akar   \n",
       "5      s7    Movie    122    Yasir Al Yasiri   \n",
       "\n",
       "                                                cast        country  \\\n",
       "0  Demián Bichir, Héctor Bonilla, Oscar Serrano, ...         Mexico   \n",
       "1  Tedd Chan, Stella Chung, Henley Hii, Lawrence ...      Singapore   \n",
       "2  Elijah Wood, John C. Reilly, Jennifer Connelly...  United States   \n",
       "3  Jim Sturgess, Kevin Spacey, Kate Bosworth, Aar...  United States   \n",
       "4  Erdal Beşikçioğlu, Yasemin Allen, Melis Birkan...         Turkey   \n",
       "5  Amina Khalil, Ahmed Dawood, Tarek Lotfy, Ahmed...          Egypt   \n",
       "\n",
       "          date_added  release_year  duration  \\\n",
       "0  December 23, 2016          2016        93   \n",
       "1  December 20, 2018          2011        78   \n",
       "2  November 16, 2017          2009        80   \n",
       "3    January 1, 2020          2008       123   \n",
       "4       July 1, 2017          2016         1   \n",
       "5       June 1, 2020          2019        95   \n",
       "\n",
       "                                         description             genre  \n",
       "0  After a devastating earthquake hits Mexico Cit...            Dramas  \n",
       "1  When an army recruit is found dead, his fellow...     Horror Movies  \n",
       "2  In a postapocalyptic world, rag-doll robots hi...            Action  \n",
       "3  A brilliant group of students become card-coun...            Dramas  \n",
       "4  A genetics professor experiments with a treatm...  International TV  \n",
       "5  After an awful accident, a couple admitted to ...     Horror Movies  "
      ]
     },
     "execution_count": 5,
     "metadata": {},
     "output_type": "execute_result"
    }
   ],
   "source": [
    "# Loading in required libraries\n",
    "\n",
    "import os\n",
    "import pandas as pd\n",
    "import seaborn as sns\n",
    "import numpy as np\n",
    "\n",
    "# Reading in the Nobel Prize data\n",
    "# build read_csv function\n",
    "folder_name = 'datasets'\n",
    "dir = r'C:\\Users\\mcaba\\OneDrive\\Escritorio\\Data Science\\Datacamp_Projects\\DataCamp_Projects\\{}'.format(folder_name)\n",
    "\n",
    "def read_csv_fun(folder_name,file_name, path):\n",
    "    path = dir\n",
    "    os.chdir(path)\n",
    "    df = pd.read_csv('{}.csv'.format(file_name), sep=',', low_memory=False, on_bad_lines='skip')\n",
    "    return df\n",
    "\n",
    "netflix_df = read_csv_fun('datasets','netflix_data', dir)\n",
    "\n",
    "# Taking a look at the first several winners\n",
    "netflix_df.head(6)"
   ]
  },
  {
   "cell_type": "markdown",
   "metadata": {},
   "source": [
    "1. Glimpse on data"
   ]
  },
  {
   "cell_type": "code",
   "execution_count": 6,
   "metadata": {},
   "outputs": [
    {
     "name": "stdout",
     "output_type": "stream",
     "text": [
      "show_id         0\n",
      "type            0\n",
      "title           0\n",
      "director        0\n",
      "cast            0\n",
      "country         0\n",
      "date_added      0\n",
      "release_year    0\n",
      "duration        0\n",
      "description     0\n",
      "genre           0\n",
      "dtype: int64\n"
     ]
    },
    {
     "data": {
      "text/plain": [
       "None"
      ]
     },
     "metadata": {},
     "output_type": "display_data"
    },
    {
     "name": "stdout",
     "output_type": "stream",
     "text": [
      "4812\n"
     ]
    },
    {
     "data": {
      "text/plain": [
       "None"
      ]
     },
     "metadata": {},
     "output_type": "display_data"
    },
    {
     "name": "stdout",
     "output_type": "stream",
     "text": [
      "<class 'pandas.core.frame.DataFrame'>\n",
      "RangeIndex: 4812 entries, 0 to 4811\n",
      "Data columns (total 11 columns):\n",
      " #   Column        Non-Null Count  Dtype \n",
      "---  ------        --------------  ----- \n",
      " 0   show_id       4812 non-null   object\n",
      " 1   type          4812 non-null   object\n",
      " 2   title         4812 non-null   object\n",
      " 3   director      4812 non-null   object\n",
      " 4   cast          4812 non-null   object\n",
      " 5   country       4812 non-null   object\n",
      " 6   date_added    4812 non-null   object\n",
      " 7   release_year  4812 non-null   int64 \n",
      " 8   duration      4812 non-null   int64 \n",
      " 9   description   4812 non-null   object\n",
      " 10  genre         4812 non-null   object\n",
      "dtypes: int64(2), object(9)\n",
      "memory usage: 413.7+ KB\n"
     ]
    },
    {
     "data": {
      "text/plain": [
       "None"
      ]
     },
     "metadata": {},
     "output_type": "display_data"
    },
    {
     "data": {
      "text/plain": [
       "type\n",
       "Movie      4677\n",
       "TV Show     135\n",
       "dtype: int64"
      ]
     },
     "metadata": {},
     "output_type": "display_data"
    },
    {
     "data": {
      "text/plain": [
       "country\n",
       "United States     1886\n",
       "India              864\n",
       "United Kingdom     311\n",
       "Canada             155\n",
       "France             133\n",
       "                  ... \n",
       "Paraguay             1\n",
       "Guatemala            1\n",
       "Namibia              1\n",
       "Iran                 1\n",
       "Zimbabwe             1\n",
       "Length: 72, dtype: int64"
      ]
     },
     "metadata": {},
     "output_type": "display_data"
    },
    {
     "data": {
      "text/plain": [
       "genre\n",
       "Dramas                  1343\n",
       "Comedies                1029\n",
       "Action                   696\n",
       "Children                 421\n",
       "Documentaries            352\n",
       "Stand-Up                 283\n",
       "Horror Movies            239\n",
       "International Movies     100\n",
       "Classic Movies            69\n",
       "Thrillers                 49\n",
       "International TV          39\n",
       "Crime TV                  30\n",
       "Uncategorized             25\n",
       "British TV                20\n",
       "Independent Movies        20\n",
       "Anime Features            18\n",
       "Music                     14\n",
       "Cult Movies               11\n",
       "Sci-Fi                    11\n",
       "Kids                      10\n",
       "Anime Series               9\n",
       "Docuseries                 7\n",
       "TV Shows                   4\n",
       "Romantic Movies            3\n",
       "TV Comedies                3\n",
       "TV Action                  2\n",
       "LGBTQ Movies               1\n",
       "Reality TV                 1\n",
       "Classic                    1\n",
       "TV Horror                  1\n",
       "Romantic TV                1\n",
       "dtype: int64"
      ]
     },
     "metadata": {},
     "output_type": "display_data"
    },
    {
     "data": {
      "text/html": [
       "<div>\n",
       "<style scoped>\n",
       "    .dataframe tbody tr th:only-of-type {\n",
       "        vertical-align: middle;\n",
       "    }\n",
       "\n",
       "    .dataframe tbody tr th {\n",
       "        vertical-align: top;\n",
       "    }\n",
       "\n",
       "    .dataframe thead th {\n",
       "        text-align: right;\n",
       "    }\n",
       "</style>\n",
       "<table border=\"1\" class=\"dataframe\">\n",
       "  <thead>\n",
       "    <tr style=\"text-align: right;\">\n",
       "      <th></th>\n",
       "      <th>release_year</th>\n",
       "      <th>duration</th>\n",
       "    </tr>\n",
       "  </thead>\n",
       "  <tbody>\n",
       "    <tr>\n",
       "      <th>count</th>\n",
       "      <td>4812.000000</td>\n",
       "      <td>4812.000000</td>\n",
       "    </tr>\n",
       "    <tr>\n",
       "      <th>mean</th>\n",
       "      <td>2012.711554</td>\n",
       "      <td>99.566708</td>\n",
       "    </tr>\n",
       "    <tr>\n",
       "      <th>std</th>\n",
       "      <td>9.517978</td>\n",
       "      <td>30.889305</td>\n",
       "    </tr>\n",
       "    <tr>\n",
       "      <th>min</th>\n",
       "      <td>1942.000000</td>\n",
       "      <td>1.000000</td>\n",
       "    </tr>\n",
       "    <tr>\n",
       "      <th>25%</th>\n",
       "      <td>2011.000000</td>\n",
       "      <td>88.000000</td>\n",
       "    </tr>\n",
       "    <tr>\n",
       "      <th>50%</th>\n",
       "      <td>2016.000000</td>\n",
       "      <td>99.000000</td>\n",
       "    </tr>\n",
       "    <tr>\n",
       "      <th>75%</th>\n",
       "      <td>2018.000000</td>\n",
       "      <td>116.000000</td>\n",
       "    </tr>\n",
       "    <tr>\n",
       "      <th>max</th>\n",
       "      <td>2021.000000</td>\n",
       "      <td>253.000000</td>\n",
       "    </tr>\n",
       "  </tbody>\n",
       "</table>\n",
       "</div>"
      ],
      "text/plain": [
       "       release_year     duration\n",
       "count   4812.000000  4812.000000\n",
       "mean    2012.711554    99.566708\n",
       "std        9.517978    30.889305\n",
       "min     1942.000000     1.000000\n",
       "25%     2011.000000    88.000000\n",
       "50%     2016.000000    99.000000\n",
       "75%     2018.000000   116.000000\n",
       "max     2021.000000   253.000000"
      ]
     },
     "metadata": {},
     "output_type": "display_data"
    }
   ],
   "source": [
    "display(\n",
    "    print(netflix_df.isna().sum())\n",
    "    )\n",
    "\n",
    "display(\n",
    "    print(len(netflix_df))\n",
    "    )\n",
    "\n",
    "display(\n",
    "    netflix_df.info()\n",
    ")\n",
    "\n",
    "display(\n",
    "    netflix_df.value_counts(\"type\")\n",
    ")\n",
    "\n",
    "display(\n",
    "    netflix_df.value_counts(\"country\")\n",
    ")\n",
    "\n",
    "display(\n",
    "    netflix_df.value_counts(\"genre\")\n",
    ")\n",
    "\n",
    "display(\n",
    "    netflix_df.describe()\n",
    ")"
   ]
  },
  {
   "cell_type": "markdown",
   "metadata": {},
   "source": [
    "2. Filter for desire year (1990)"
   ]
  },
  {
   "cell_type": "code",
   "execution_count": 16,
   "metadata": {},
   "outputs": [
    {
     "name": "stdout",
     "output_type": "stream",
     "text": [
      "release_year\n",
      "2017    646\n",
      "2018    624\n",
      "2016    562\n",
      "2019    488\n",
      "2020    379\n",
      "2015    340\n",
      "2014    224\n",
      "2013    183\n",
      "2012    150\n",
      "2010    125\n",
      "2011    119\n",
      "2009    101\n",
      "2008     99\n",
      "2006     75\n",
      "2007     69\n",
      "2005     59\n",
      "2004     50\n",
      "2003     39\n",
      "2002     39\n",
      "2001     32\n",
      "2000     30\n",
      "1997     26\n",
      "1999     26\n",
      "1998     26\n",
      "1995     16\n",
      "1993     16\n",
      "1992     16\n",
      "1996     15\n",
      "1990     15\n",
      "1994     14\n",
      "1982     14\n",
      "1991     14\n",
      "1988     14\n",
      "1989     12\n",
      "1973     10\n",
      "1979      9\n",
      "1980      9\n",
      "1986      8\n",
      "1984      8\n",
      "1983      8\n",
      "dtype: int64\n"
     ]
    }
   ],
   "source": [
    "\n",
    "years = netflix_df.value_counts(\"release_year\")\n",
    "print(years.head(40))\n"
   ]
  },
  {
   "cell_type": "code",
   "execution_count": 21,
   "metadata": {},
   "outputs": [
    {
     "ename": "ValueError",
     "evalue": "The truth value of a Series is ambiguous. Use a.empty, a.bool(), a.item(), a.any() or a.all().",
     "output_type": "error",
     "traceback": [
      "\u001b[1;31m---------------------------------------------------------------------------\u001b[0m",
      "\u001b[1;31mValueError\u001b[0m                                Traceback (most recent call last)",
      "Cell \u001b[1;32mIn [21], line 1\u001b[0m\n\u001b[1;32m----> 1\u001b[0m netflix_df_90s \u001b[38;5;241m=\u001b[39m netflix_df[netflix_df[\u001b[38;5;124m\"\u001b[39m\u001b[38;5;124mrelease_year\u001b[39m\u001b[38;5;124m\"\u001b[39m] \u001b[38;5;241m>\u001b[39m\u001b[38;5;241m=\u001b[39m \u001b[38;5;241m1990\u001b[39m \u001b[38;5;241m&\u001b[39m netflix_df[\u001b[38;5;124m\"\u001b[39m\u001b[38;5;124mrelease_year\u001b[39m\u001b[38;5;124m\"\u001b[39m] \u001b[38;5;241m<\u001b[39m \u001b[38;5;241m2000\u001b[39m]\n",
      "File \u001b[1;32m~\\AppData\\Roaming\\Python\\Python310\\site-packages\\pandas\\core\\generic.py:1527\u001b[0m, in \u001b[0;36mNDFrame.__nonzero__\u001b[1;34m(self)\u001b[0m\n\u001b[0;32m   1525\u001b[0m \u001b[38;5;129m@final\u001b[39m\n\u001b[0;32m   1526\u001b[0m \u001b[38;5;28;01mdef\u001b[39;00m \u001b[38;5;21m__nonzero__\u001b[39m(\u001b[38;5;28mself\u001b[39m) \u001b[38;5;241m-\u001b[39m\u001b[38;5;241m>\u001b[39m NoReturn:\n\u001b[1;32m-> 1527\u001b[0m     \u001b[38;5;28;01mraise\u001b[39;00m \u001b[38;5;167;01mValueError\u001b[39;00m(\n\u001b[0;32m   1528\u001b[0m         \u001b[38;5;124mf\u001b[39m\u001b[38;5;124m\"\u001b[39m\u001b[38;5;124mThe truth value of a \u001b[39m\u001b[38;5;132;01m{\u001b[39;00m\u001b[38;5;28mtype\u001b[39m(\u001b[38;5;28mself\u001b[39m)\u001b[38;5;241m.\u001b[39m\u001b[38;5;18m__name__\u001b[39m\u001b[38;5;132;01m}\u001b[39;00m\u001b[38;5;124m is ambiguous. \u001b[39m\u001b[38;5;124m\"\u001b[39m\n\u001b[0;32m   1529\u001b[0m         \u001b[38;5;124m\"\u001b[39m\u001b[38;5;124mUse a.empty, a.bool(), a.item(), a.any() or a.all().\u001b[39m\u001b[38;5;124m\"\u001b[39m\n\u001b[0;32m   1530\u001b[0m     )\n",
      "\u001b[1;31mValueError\u001b[0m: The truth value of a Series is ambiguous. Use a.empty, a.bool(), a.item(), a.any() or a.all()."
     ]
    }
   ],
   "source": [
    "netflix_df_90s = netflix_df[netflix_df[\"release_year\"] >= 1990 & netflix_df[\"release_year\"] < 2000]"
   ]
  },
  {
   "cell_type": "code",
   "execution_count": 12,
   "metadata": {},
   "outputs": [
    {
     "name": "stdout",
     "output_type": "stream",
     "text": [
      "<class 'pandas.core.frame.DataFrame'>\n",
      "Int64Index: 15 entries, 240 to 4566\n",
      "Data columns (total 11 columns):\n",
      " #   Column        Non-Null Count  Dtype \n",
      "---  ------        --------------  ----- \n",
      " 0   show_id       15 non-null     object\n",
      " 1   type          15 non-null     object\n",
      " 2   title         15 non-null     object\n",
      " 3   director      15 non-null     object\n",
      " 4   cast          15 non-null     object\n",
      " 5   country       15 non-null     object\n",
      " 6   date_added    15 non-null     object\n",
      " 7   release_year  15 non-null     int64 \n",
      " 8   duration      15 non-null     int64 \n",
      " 9   description   15 non-null     object\n",
      " 10  genre         15 non-null     object\n",
      "dtypes: int64(2), object(9)\n",
      "memory usage: 1.4+ KB\n"
     ]
    },
    {
     "data": {
      "text/plain": [
       "None"
      ]
     },
     "metadata": {},
     "output_type": "display_data"
    }
   ],
   "source": [
    "display(\n",
    "    netflix_df_1990.info()\n",
    ")"
   ]
  },
  {
   "cell_type": "code",
   "execution_count": 13,
   "metadata": {},
   "outputs": [
    {
     "data": {
      "text/html": [
       "<div>\n",
       "<style scoped>\n",
       "    .dataframe tbody tr th:only-of-type {\n",
       "        vertical-align: middle;\n",
       "    }\n",
       "\n",
       "    .dataframe tbody tr th {\n",
       "        vertical-align: top;\n",
       "    }\n",
       "\n",
       "    .dataframe thead th {\n",
       "        text-align: right;\n",
       "    }\n",
       "</style>\n",
       "<table border=\"1\" class=\"dataframe\">\n",
       "  <thead>\n",
       "    <tr style=\"text-align: right;\">\n",
       "      <th></th>\n",
       "      <th>release_year</th>\n",
       "      <th>duration</th>\n",
       "    </tr>\n",
       "  </thead>\n",
       "  <tbody>\n",
       "    <tr>\n",
       "      <th>count</th>\n",
       "      <td>15.0</td>\n",
       "      <td>15.000000</td>\n",
       "    </tr>\n",
       "    <tr>\n",
       "      <th>mean</th>\n",
       "      <td>1990.0</td>\n",
       "      <td>109.666667</td>\n",
       "    </tr>\n",
       "    <tr>\n",
       "      <th>std</th>\n",
       "      <td>0.0</td>\n",
       "      <td>49.710112</td>\n",
       "    </tr>\n",
       "    <tr>\n",
       "      <th>min</th>\n",
       "      <td>1990.0</td>\n",
       "      <td>1.000000</td>\n",
       "    </tr>\n",
       "    <tr>\n",
       "      <th>25%</th>\n",
       "      <td>1990.0</td>\n",
       "      <td>91.000000</td>\n",
       "    </tr>\n",
       "    <tr>\n",
       "      <th>50%</th>\n",
       "      <td>1990.0</td>\n",
       "      <td>104.000000</td>\n",
       "    </tr>\n",
       "    <tr>\n",
       "      <th>75%</th>\n",
       "      <td>1990.0</td>\n",
       "      <td>154.000000</td>\n",
       "    </tr>\n",
       "    <tr>\n",
       "      <th>max</th>\n",
       "      <td>1990.0</td>\n",
       "      <td>174.000000</td>\n",
       "    </tr>\n",
       "  </tbody>\n",
       "</table>\n",
       "</div>"
      ],
      "text/plain": [
       "       release_year    duration\n",
       "count          15.0   15.000000\n",
       "mean         1990.0  109.666667\n",
       "std             0.0   49.710112\n",
       "min          1990.0    1.000000\n",
       "25%          1990.0   91.000000\n",
       "50%          1990.0  104.000000\n",
       "75%          1990.0  154.000000\n",
       "max          1990.0  174.000000"
      ]
     },
     "metadata": {},
     "output_type": "display_data"
    }
   ],
   "source": [
    "display(\n",
    "    netflix_df_1990.describe()\n",
    ")"
   ]
  }
 ],
 "metadata": {
  "kernelspec": {
   "display_name": "Python 3",
   "language": "python",
   "name": "python3"
  },
  "language_info": {
   "codemirror_mode": {
    "name": "ipython",
    "version": 3
   },
   "file_extension": ".py",
   "mimetype": "text/x-python",
   "name": "python",
   "nbconvert_exporter": "python",
   "pygments_lexer": "ipython3",
   "version": "3.10.0"
  }
 },
 "nbformat": 4,
 "nbformat_minor": 2
}
