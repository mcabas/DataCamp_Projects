{
 "cells": [
  {
   "cell_type": "markdown",
   "id": "cb07ccd0",
   "metadata": {},
   "source": [
    "# **Hypothesis Testing with Men's and Women's Soccer Matches**\n",
    "\n",
    "You're working as a sports journalist at a major online sports media company, specializing in soccer analysis and reporting. You've been watching both men's and women's international soccer matches for a number of years, and your gut instinct tells you that more goals are scored in women's international football matches than men's. This would make an interesting investigative article that your subscribers are bound to love, but you'll need to perform a valid statistical hypothesis test to be sure!\n",
    "\n",
    "While scoping this project, you acknowledge that the sport has changed a lot over the years, and performances likely vary a lot depending on the tournament, so you decide to limit the data used in the analysis to only official FIFA World Cup matches (not including qualifiers) since 2002-01-01.\n",
    "\n",
    "You create two datasets containing the results of every official men's and women's international football match since the 19th century, which you scraped from a reliable online source. This data is stored in two CSV files: women_results.csv and men_results.csv.\n",
    "\n",
    "The question you are trying to determine the answer to is:\n",
    "\n",
    "Are more goals scored in women's international soccer matches than men's?\n",
    "\n",
    "You assume a 10% significance level, and use the following null and alternative hypotheses:\n",
    "\n",
    " H0: The mean number of goals scored in women's international soccer matches is the same as men's.\n",
    "\n",
    " Ha: The mean number of goals scored in women's international soccer matches is greater than men's."
   ]
  },
  {
   "cell_type": "markdown",
   "id": "72d546c4",
   "metadata": {},
   "source": [
    "#### Project Instructions:\n",
    "\n",
    "Perform an appropriate hypothesis test to determine the p-value, and hence result, of whether to reject or fail to reject the null hypothesis that the mean number of goals scored in women's international soccer matches is the same as men's. Use a 10% significance level.\n",
    "\n",
    "For this analysis, you'll use Official FIFA World Cup matches since 2002-01-01, and you'll also assume that each match is fully independent, i.e., team form is ignored.\n",
    "\n",
    "The p-value and the result of the test must be stored in a dictionary called result_dict in the form:\n",
    "\n",
    "result_dict = {\"p_val\": p_val, \"result\": result}\n",
    "\n",
    "where p_val is the p-value and result is either the string \"fail to reject\" or \"reject\", depending on the result of the test."
   ]
  },
  {
   "cell_type": "code",
   "execution_count": 36,
   "id": "be31b0a2",
   "metadata": {},
   "outputs": [
    {
     "data": {
      "text/html": [
       "<div>\n",
       "<style scoped>\n",
       "    .dataframe tbody tr th:only-of-type {\n",
       "        vertical-align: middle;\n",
       "    }\n",
       "\n",
       "    .dataframe tbody tr th {\n",
       "        vertical-align: top;\n",
       "    }\n",
       "\n",
       "    .dataframe thead th {\n",
       "        text-align: right;\n",
       "    }\n",
       "</style>\n",
       "<table border=\"1\" class=\"dataframe\">\n",
       "  <thead>\n",
       "    <tr style=\"text-align: right;\">\n",
       "      <th></th>\n",
       "      <th>Unnamed: 0</th>\n",
       "      <th>date</th>\n",
       "      <th>home_team</th>\n",
       "      <th>away_team</th>\n",
       "      <th>home_score</th>\n",
       "      <th>away_score</th>\n",
       "      <th>tournament</th>\n",
       "    </tr>\n",
       "  </thead>\n",
       "  <tbody>\n",
       "    <tr>\n",
       "      <th>0</th>\n",
       "      <td>0</td>\n",
       "      <td>1969-11-01</td>\n",
       "      <td>Italy</td>\n",
       "      <td>France</td>\n",
       "      <td>1</td>\n",
       "      <td>0</td>\n",
       "      <td>Euro</td>\n",
       "    </tr>\n",
       "    <tr>\n",
       "      <th>1</th>\n",
       "      <td>1</td>\n",
       "      <td>1969-11-01</td>\n",
       "      <td>Denmark</td>\n",
       "      <td>England</td>\n",
       "      <td>4</td>\n",
       "      <td>3</td>\n",
       "      <td>Euro</td>\n",
       "    </tr>\n",
       "  </tbody>\n",
       "</table>\n",
       "</div>"
      ],
      "text/plain": [
       "   Unnamed: 0        date home_team away_team  home_score  away_score  \\\n",
       "0           0  1969-11-01     Italy    France           1           0   \n",
       "1           1  1969-11-01   Denmark   England           4           3   \n",
       "\n",
       "  tournament  \n",
       "0       Euro  \n",
       "1       Euro  "
      ]
     },
     "execution_count": 36,
     "metadata": {},
     "output_type": "execute_result"
    }
   ],
   "source": [
    "# Loading in required libraries\n",
    "\n",
    "import os\n",
    "import pandas as pd\n",
    "import seaborn as sns\n",
    "import numpy as np\n",
    "import pingouin\n",
    "\n",
    "# Reading in the Nobel Prize data\n",
    "# build read_csv function\n",
    "folder_name = 'datasets'\n",
    "dir = r'C:\\Users\\mcaba\\OneDrive\\Escritorio\\Data Science\\Datacamp_Projects\\DataCamp_Projects\\{}'.format(folder_name)\n",
    "\n",
    "def read_csv_fun(folder_name,file_name, path):\n",
    "    path = dir\n",
    "    os.chdir(path)\n",
    "    df = pd.read_csv('{}.csv'.format(file_name), sep=',', low_memory=False, on_bad_lines='skip')\n",
    "    return df\n",
    "\n",
    "women_results = read_csv_fun('datasets','women_results', dir)\n",
    "\n",
    "# Taking a look at the first several winners\n",
    "women_results.head(2)"
   ]
  },
  {
   "cell_type": "code",
   "execution_count": 37,
   "id": "5deaa6ac",
   "metadata": {},
   "outputs": [
    {
     "data": {
      "text/html": [
       "<div>\n",
       "<style scoped>\n",
       "    .dataframe tbody tr th:only-of-type {\n",
       "        vertical-align: middle;\n",
       "    }\n",
       "\n",
       "    .dataframe tbody tr th {\n",
       "        vertical-align: top;\n",
       "    }\n",
       "\n",
       "    .dataframe thead th {\n",
       "        text-align: right;\n",
       "    }\n",
       "</style>\n",
       "<table border=\"1\" class=\"dataframe\">\n",
       "  <thead>\n",
       "    <tr style=\"text-align: right;\">\n",
       "      <th></th>\n",
       "      <th>Unnamed: 0</th>\n",
       "      <th>date</th>\n",
       "      <th>home_team</th>\n",
       "      <th>away_team</th>\n",
       "      <th>home_score</th>\n",
       "      <th>away_score</th>\n",
       "      <th>tournament</th>\n",
       "    </tr>\n",
       "  </thead>\n",
       "  <tbody>\n",
       "    <tr>\n",
       "      <th>0</th>\n",
       "      <td>0</td>\n",
       "      <td>1872-11-30</td>\n",
       "      <td>Scotland</td>\n",
       "      <td>England</td>\n",
       "      <td>0</td>\n",
       "      <td>0</td>\n",
       "      <td>Friendly</td>\n",
       "    </tr>\n",
       "    <tr>\n",
       "      <th>1</th>\n",
       "      <td>1</td>\n",
       "      <td>1873-03-08</td>\n",
       "      <td>England</td>\n",
       "      <td>Scotland</td>\n",
       "      <td>4</td>\n",
       "      <td>2</td>\n",
       "      <td>Friendly</td>\n",
       "    </tr>\n",
       "  </tbody>\n",
       "</table>\n",
       "</div>"
      ],
      "text/plain": [
       "   Unnamed: 0        date home_team away_team  home_score  away_score  \\\n",
       "0           0  1872-11-30  Scotland   England           0           0   \n",
       "1           1  1873-03-08   England  Scotland           4           2   \n",
       "\n",
       "  tournament  \n",
       "0   Friendly  \n",
       "1   Friendly  "
      ]
     },
     "execution_count": 37,
     "metadata": {},
     "output_type": "execute_result"
    }
   ],
   "source": [
    "men_results = read_csv_fun('datasets','men_results', dir)\n",
    "\n",
    "# Taking a look at the first several winners\n",
    "men_results.head(2)"
   ]
  },
  {
   "cell_type": "code",
   "execution_count": 38,
   "id": "c3e904c6",
   "metadata": {},
   "outputs": [
    {
     "name": "stdout",
     "output_type": "stream",
     "text": [
      "<class 'pandas.core.frame.DataFrame'>\n",
      "RangeIndex: 4884 entries, 0 to 4883\n",
      "Data columns (total 7 columns):\n",
      " #   Column      Non-Null Count  Dtype \n",
      "---  ------      --------------  ----- \n",
      " 0   Unnamed: 0  4884 non-null   int64 \n",
      " 1   date        4884 non-null   object\n",
      " 2   home_team   4884 non-null   object\n",
      " 3   away_team   4884 non-null   object\n",
      " 4   home_score  4884 non-null   int64 \n",
      " 5   away_score  4884 non-null   int64 \n",
      " 6   tournament  4884 non-null   object\n",
      "dtypes: int64(3), object(4)\n",
      "memory usage: 267.2+ KB\n"
     ]
    },
    {
     "data": {
      "text/plain": [
       "None"
      ]
     },
     "metadata": {},
     "output_type": "display_data"
    },
    {
     "data": {
      "text/html": [
       "<div>\n",
       "<style scoped>\n",
       "    .dataframe tbody tr th:only-of-type {\n",
       "        vertical-align: middle;\n",
       "    }\n",
       "\n",
       "    .dataframe tbody tr th {\n",
       "        vertical-align: top;\n",
       "    }\n",
       "\n",
       "    .dataframe thead th {\n",
       "        text-align: right;\n",
       "    }\n",
       "</style>\n",
       "<table border=\"1\" class=\"dataframe\">\n",
       "  <thead>\n",
       "    <tr style=\"text-align: right;\">\n",
       "      <th></th>\n",
       "      <th>Unnamed: 0</th>\n",
       "      <th>home_score</th>\n",
       "      <th>away_score</th>\n",
       "    </tr>\n",
       "  </thead>\n",
       "  <tbody>\n",
       "    <tr>\n",
       "      <th>count</th>\n",
       "      <td>4884.000000</td>\n",
       "      <td>4884.000000</td>\n",
       "      <td>4884.000000</td>\n",
       "    </tr>\n",
       "    <tr>\n",
       "      <th>mean</th>\n",
       "      <td>2441.500000</td>\n",
       "      <td>2.272727</td>\n",
       "      <td>1.431409</td>\n",
       "    </tr>\n",
       "    <tr>\n",
       "      <th>std</th>\n",
       "      <td>1410.033688</td>\n",
       "      <td>2.736377</td>\n",
       "      <td>1.974651</td>\n",
       "    </tr>\n",
       "    <tr>\n",
       "      <th>min</th>\n",
       "      <td>0.000000</td>\n",
       "      <td>0.000000</td>\n",
       "      <td>0.000000</td>\n",
       "    </tr>\n",
       "    <tr>\n",
       "      <th>25%</th>\n",
       "      <td>1220.750000</td>\n",
       "      <td>0.000000</td>\n",
       "      <td>0.000000</td>\n",
       "    </tr>\n",
       "    <tr>\n",
       "      <th>50%</th>\n",
       "      <td>2441.500000</td>\n",
       "      <td>1.000000</td>\n",
       "      <td>1.000000</td>\n",
       "    </tr>\n",
       "    <tr>\n",
       "      <th>75%</th>\n",
       "      <td>3662.250000</td>\n",
       "      <td>3.000000</td>\n",
       "      <td>2.000000</td>\n",
       "    </tr>\n",
       "    <tr>\n",
       "      <th>max</th>\n",
       "      <td>4883.000000</td>\n",
       "      <td>24.000000</td>\n",
       "      <td>24.000000</td>\n",
       "    </tr>\n",
       "  </tbody>\n",
       "</table>\n",
       "</div>"
      ],
      "text/plain": [
       "        Unnamed: 0   home_score   away_score\n",
       "count  4884.000000  4884.000000  4884.000000\n",
       "mean   2441.500000     2.272727     1.431409\n",
       "std    1410.033688     2.736377     1.974651\n",
       "min       0.000000     0.000000     0.000000\n",
       "25%    1220.750000     0.000000     0.000000\n",
       "50%    2441.500000     1.000000     1.000000\n",
       "75%    3662.250000     3.000000     2.000000\n",
       "max    4883.000000    24.000000    24.000000"
      ]
     },
     "metadata": {},
     "output_type": "display_data"
    },
    {
     "name": "stdout",
     "output_type": "stream",
     "text": [
      "<class 'pandas.core.frame.DataFrame'>\n",
      "RangeIndex: 44353 entries, 0 to 44352\n",
      "Data columns (total 7 columns):\n",
      " #   Column      Non-Null Count  Dtype \n",
      "---  ------      --------------  ----- \n",
      " 0   Unnamed: 0  44353 non-null  int64 \n",
      " 1   date        44353 non-null  object\n",
      " 2   home_team   44353 non-null  object\n",
      " 3   away_team   44353 non-null  object\n",
      " 4   home_score  44353 non-null  int64 \n",
      " 5   away_score  44353 non-null  int64 \n",
      " 6   tournament  44353 non-null  object\n",
      "dtypes: int64(3), object(4)\n",
      "memory usage: 2.4+ MB\n"
     ]
    },
    {
     "data": {
      "text/plain": [
       "None"
      ]
     },
     "metadata": {},
     "output_type": "display_data"
    },
    {
     "data": {
      "text/html": [
       "<div>\n",
       "<style scoped>\n",
       "    .dataframe tbody tr th:only-of-type {\n",
       "        vertical-align: middle;\n",
       "    }\n",
       "\n",
       "    .dataframe tbody tr th {\n",
       "        vertical-align: top;\n",
       "    }\n",
       "\n",
       "    .dataframe thead th {\n",
       "        text-align: right;\n",
       "    }\n",
       "</style>\n",
       "<table border=\"1\" class=\"dataframe\">\n",
       "  <thead>\n",
       "    <tr style=\"text-align: right;\">\n",
       "      <th></th>\n",
       "      <th>Unnamed: 0</th>\n",
       "      <th>home_score</th>\n",
       "      <th>away_score</th>\n",
       "    </tr>\n",
       "  </thead>\n",
       "  <tbody>\n",
       "    <tr>\n",
       "      <th>count</th>\n",
       "      <td>44353.000000</td>\n",
       "      <td>44353.000000</td>\n",
       "      <td>44353.000000</td>\n",
       "    </tr>\n",
       "    <tr>\n",
       "      <th>mean</th>\n",
       "      <td>22176.000000</td>\n",
       "      <td>1.740559</td>\n",
       "      <td>1.178793</td>\n",
       "    </tr>\n",
       "    <tr>\n",
       "      <th>std</th>\n",
       "      <td>12803.752581</td>\n",
       "      <td>1.748722</td>\n",
       "      <td>1.394580</td>\n",
       "    </tr>\n",
       "    <tr>\n",
       "      <th>min</th>\n",
       "      <td>0.000000</td>\n",
       "      <td>0.000000</td>\n",
       "      <td>0.000000</td>\n",
       "    </tr>\n",
       "    <tr>\n",
       "      <th>25%</th>\n",
       "      <td>11088.000000</td>\n",
       "      <td>1.000000</td>\n",
       "      <td>0.000000</td>\n",
       "    </tr>\n",
       "    <tr>\n",
       "      <th>50%</th>\n",
       "      <td>22176.000000</td>\n",
       "      <td>1.000000</td>\n",
       "      <td>1.000000</td>\n",
       "    </tr>\n",
       "    <tr>\n",
       "      <th>75%</th>\n",
       "      <td>33264.000000</td>\n",
       "      <td>2.000000</td>\n",
       "      <td>2.000000</td>\n",
       "    </tr>\n",
       "    <tr>\n",
       "      <th>max</th>\n",
       "      <td>44352.000000</td>\n",
       "      <td>31.000000</td>\n",
       "      <td>21.000000</td>\n",
       "    </tr>\n",
       "  </tbody>\n",
       "</table>\n",
       "</div>"
      ],
      "text/plain": [
       "         Unnamed: 0    home_score    away_score\n",
       "count  44353.000000  44353.000000  44353.000000\n",
       "mean   22176.000000      1.740559      1.178793\n",
       "std    12803.752581      1.748722      1.394580\n",
       "min        0.000000      0.000000      0.000000\n",
       "25%    11088.000000      1.000000      0.000000\n",
       "50%    22176.000000      1.000000      1.000000\n",
       "75%    33264.000000      2.000000      2.000000\n",
       "max    44352.000000     31.000000     21.000000"
      ]
     },
     "metadata": {},
     "output_type": "display_data"
    }
   ],
   "source": [
    "display(women_results.info())\n",
    "\n",
    "display(women_results.describe())\n",
    "\n",
    "display(men_results.info())\n",
    "\n",
    "display(men_results.describe())"
   ]
  },
  {
   "cell_type": "code",
   "execution_count": 39,
   "id": "ec12768e",
   "metadata": {},
   "outputs": [],
   "source": [
    "#Transforming data columns into the correct Dtype\n",
    "\n",
    "women_results[\"date\"] = pd.to_datetime(women_results[\"date\"])\n",
    "\n",
    "men_results[\"date\"] = pd.to_datetime(men_results[\"date\"])"
   ]
  },
  {
   "cell_type": "code",
   "execution_count": 40,
   "id": "fd925649",
   "metadata": {},
   "outputs": [],
   "source": [
    "# year column for validation\n",
    "\n",
    "women_results[\"year\"] = women_results[\"date\"].dt.year \n",
    "\n",
    "men_results[\"year\"] =  men_results[\"date\"].dt.year "
   ]
  },
  {
   "cell_type": "code",
   "execution_count": 41,
   "id": "203e4e34",
   "metadata": {},
   "outputs": [
    {
     "data": {
      "text/plain": [
       "year\n",
       "2018    346\n",
       "2012    242\n",
       "2017    228\n",
       "2016    228\n",
       "2019    204\n",
       "2015    202\n",
       "2006    195\n",
       "2010    190\n",
       "2008    186\n",
       "2003    179\n",
       "2011    178\n",
       "2014    161\n",
       "2004    150\n",
       "2000    145\n",
       "2020    137\n",
       "1999    136\n",
       "2007    130\n",
       "1995    124\n",
       "2013    115\n",
       "2002    112\n",
       "1996    110\n",
       "1998    101\n",
       "2022     94\n",
       "1991     92\n",
       "2021     91\n",
       "2009     90\n",
       "1994     89\n",
       "2001     61\n",
       "2005     61\n",
       "1983     54\n",
       "1993     53\n",
       "1997     50\n",
       "1988     44\n",
       "1989     42\n",
       "1990     41\n",
       "1992     40\n",
       "1986     38\n",
       "1985     24\n",
       "1987     20\n",
       "1982     18\n",
       "1980     18\n",
       "1981     16\n",
       "1979     16\n",
       "1977     10\n",
       "1975     10\n",
       "1984      9\n",
       "1969      4\n",
       "Name: count, dtype: int64"
      ]
     },
     "metadata": {},
     "output_type": "display_data"
    },
    {
     "data": {
      "text/plain": [
       "year\n",
       "2019    1161\n",
       "2008    1102\n",
       "2011    1090\n",
       "2021    1089\n",
       "2004    1077\n",
       "        ... \n",
       "1876       2\n",
       "1873       1\n",
       "1875       1\n",
       "1874       1\n",
       "1872       1\n",
       "Name: count, Length: 151, dtype: int64"
      ]
     },
     "metadata": {},
     "output_type": "display_data"
    }
   ],
   "source": [
    "display(women_results[\"year\"].value_counts())\n",
    "\n",
    "display(men_results[\"year\"].value_counts())"
   ]
  },
  {
   "cell_type": "code",
   "execution_count": 42,
   "id": "70674c5b",
   "metadata": {},
   "outputs": [
    {
     "data": {
      "text/plain": [
       "tournament\n",
       "Friendly                                17519\n",
       "FIFA World Cup qualification             7878\n",
       "UEFA Euro qualification                  2585\n",
       "African Cup of Nations qualification     1932\n",
       "FIFA World Cup                            964\n",
       "                                        ...  \n",
       "Real Madrid 75th Anniversary Cup            1\n",
       "Évence Coppée Trophy                        1\n",
       "Copa Confraternidad                         1\n",
       "TIFOCO Tournament                           1\n",
       "FIFA 75th Anniversary Cup                   1\n",
       "Name: count, Length: 141, dtype: int64"
      ]
     },
     "metadata": {},
     "output_type": "display_data"
    },
    {
     "data": {
      "text/plain": [
       "tournament\n",
       "FIFA World Cup qualification    7878\n",
       "FIFA World Cup                   964\n",
       "FIFA 75th Anniversary Cup          1\n",
       "Name: count, dtype: int64"
      ]
     },
     "metadata": {},
     "output_type": "display_data"
    }
   ],
   "source": [
    "display(men_results[\"tournament\"].value_counts())\n",
    "display(men_results[men_results[\"tournament\"].str.contains(\"FIFA\", na=False)][\"tournament\"].value_counts())"
   ]
  },
  {
   "cell_type": "code",
   "execution_count": 43,
   "id": "1ffe063b",
   "metadata": {},
   "outputs": [
    {
     "data": {
      "text/plain": [
       "tournament\n",
       "UEFA Euro qualification                 1445\n",
       "Algarve Cup                              551\n",
       "FIFA World Cup                           284\n",
       "AFC Championship                         268\n",
       "Cyprus Cup                               258\n",
       "African Championship qualification       226\n",
       "UEFA Euro                                184\n",
       "African Championship                     173\n",
       "FIFA World Cup qualification             172\n",
       "CONCACAF Gold Cup qualification          143\n",
       "AFC Asian Cup qualification              141\n",
       "Copa América                             131\n",
       "Olympic Games                            130\n",
       "CONCACAF Gold Cup                        126\n",
       "Friendly                                 111\n",
       "AFC Asian Cup                            111\n",
       "Four Nations Tournament                  106\n",
       "OFC Championship                          78\n",
       "African Cup of Nations qualification      58\n",
       "CONCACAF Championship                     42\n",
       "SheBelieves Cup                           39\n",
       "Euro                                      20\n",
       "African Cup of Nations                    16\n",
       "OFC Nations Cup                           16\n",
       "Olympic Games qualification               15\n",
       "Tournament of Nations                     12\n",
       "Tournoi de France                         12\n",
       "CONCACAF Invitational Tournament           6\n",
       "OFC Nations Cup qualification              6\n",
       "Basque Country Women's Cup                 4\n",
       "Name: count, dtype: int64"
      ]
     },
     "metadata": {},
     "output_type": "display_data"
    },
    {
     "data": {
      "text/plain": [
       "tournament\n",
       "FIFA World Cup                  284\n",
       "FIFA World Cup qualification    172\n",
       "Name: count, dtype: int64"
      ]
     },
     "metadata": {},
     "output_type": "display_data"
    }
   ],
   "source": [
    "display(women_results[\"tournament\"].value_counts())\n",
    "display(women_results[women_results[\"tournament\"].str.contains(\"FIFA\", na=False)][\"tournament\"].value_counts())"
   ]
  },
  {
   "cell_type": "code",
   "execution_count": 44,
   "id": "60686df0",
   "metadata": {},
   "outputs": [],
   "source": [
    "# Subset the women_results & men_results since 2002-01-01\n",
    "women_results_2002 = women_results[women_results ['date'] >= '2002-01-01']\n",
    "\n",
    "men_results_2002 = men_results[men_results['date'] >= '2002-01-01']\n",
    "\n",
    "# Subset the women_results & men_results only official FIFA World Cup matches (not including qualifiers)\n",
    "\n",
    "df_women_results_FIFA2002 = women_results_2002[women_results_2002['tournament'] == 'FIFA World Cup']\n",
    "\n",
    "df_men_results_FIFA2002 = men_results_2002[men_results_2002['tournament'] == 'FIFA World Cup']\n"
   ]
  },
  {
   "cell_type": "code",
   "execution_count": 45,
   "id": "dca1407c",
   "metadata": {},
   "outputs": [
    {
     "data": {
      "text/plain": [
       "tournament\n",
       "FIFA World Cup    200\n",
       "Name: count, dtype: int64"
      ]
     },
     "metadata": {},
     "output_type": "display_data"
    },
    {
     "data": {
      "text/plain": [
       "tournament\n",
       "FIFA World Cup    384\n",
       "Name: count, dtype: int64"
      ]
     },
     "metadata": {},
     "output_type": "display_data"
    }
   ],
   "source": [
    "display(df_women_results_FIFA2002[\"tournament\"].value_counts())\n",
    "\n",
    "display(df_men_results_FIFA2002[\"tournament\"].value_counts())\n",
    "\n"
   ]
  },
  {
   "cell_type": "code",
   "execution_count": null,
   "id": "133023c6",
   "metadata": {},
   "outputs": [
    {
     "data": {
      "text/plain": [
       "year\n",
       "2015    52\n",
       "2019    52\n",
       "2003    32\n",
       "2007    32\n",
       "2011    32\n",
       "Name: count, dtype: int64"
      ]
     },
     "metadata": {},
     "output_type": "display_data"
    },
    {
     "data": {
      "text/plain": [
       "year\n",
       "2002    64\n",
       "2006    64\n",
       "2010    64\n",
       "2014    64\n",
       "2018    64\n",
       "2022    64\n",
       "Name: count, dtype: int64"
      ]
     },
     "metadata": {},
     "output_type": "display_data"
    }
   ],
   "source": [
    "display(df_women_results_FIFA2002[\"year\"].value_counts())\n",
    "\n",
    "display(df_men_results_FIFA2002[\"year\"].value_counts())"
   ]
  },
  {
   "cell_type": "code",
   "execution_count": 47,
   "id": "f6812baa",
   "metadata": {},
   "outputs": [
    {
     "name": "stderr",
     "output_type": "stream",
     "text": [
      "C:\\Users\\mcaba\\AppData\\Local\\Temp\\ipykernel_40980\\1425082862.py:3: SettingWithCopyWarning: \n",
      "A value is trying to be set on a copy of a slice from a DataFrame.\n",
      "Try using .loc[row_indexer,col_indexer] = value instead\n",
      "\n",
      "See the caveats in the documentation: https://pandas.pydata.org/pandas-docs/stable/user_guide/indexing.html#returning-a-view-versus-a-copy\n",
      "  df_women_results_FIFA2002[\"total_goals\"] = df_women_results_FIFA2002[\"home_score\"] + df_women_results_FIFA2002[\"away_score\"]\n",
      "C:\\Users\\mcaba\\AppData\\Local\\Temp\\ipykernel_40980\\1425082862.py:5: SettingWithCopyWarning: \n",
      "A value is trying to be set on a copy of a slice from a DataFrame.\n",
      "Try using .loc[row_indexer,col_indexer] = value instead\n",
      "\n",
      "See the caveats in the documentation: https://pandas.pydata.org/pandas-docs/stable/user_guide/indexing.html#returning-a-view-versus-a-copy\n",
      "  df_men_results_FIFA2002[\"total_goals\"] = df_men_results_FIFA2002[\"home_score\"] + df_men_results_FIFA2002[\"away_score\"]\n"
     ]
    }
   ],
   "source": [
    "# Total goals columb for both dataframes\n",
    "\n",
    "df_women_results_FIFA2002[\"total_goals\"] = df_women_results_FIFA2002[\"home_score\"] + df_women_results_FIFA2002[\"away_score\"]\n",
    "\n",
    "df_men_results_FIFA2002[\"total_goals\"] = df_men_results_FIFA2002[\"home_score\"] + df_men_results_FIFA2002[\"away_score\"]\n"
   ]
  },
  {
   "cell_type": "code",
   "execution_count": 48,
   "id": "d4977325",
   "metadata": {},
   "outputs": [
    {
     "name": "stdout",
     "output_type": "stream",
     "text": [
      "<class 'pandas.core.frame.DataFrame'>\n",
      "Index: 200 entries, 1600 to 4469\n",
      "Data columns (total 9 columns):\n",
      " #   Column       Non-Null Count  Dtype         \n",
      "---  ------       --------------  -----         \n",
      " 0   Unnamed: 0   200 non-null    int64         \n",
      " 1   date         200 non-null    datetime64[ns]\n",
      " 2   home_team    200 non-null    object        \n",
      " 3   away_team    200 non-null    object        \n",
      " 4   home_score   200 non-null    int64         \n",
      " 5   away_score   200 non-null    int64         \n",
      " 6   tournament   200 non-null    object        \n",
      " 7   year         200 non-null    int32         \n",
      " 8   total_goals  200 non-null    int64         \n",
      "dtypes: datetime64[ns](1), int32(1), int64(4), object(3)\n",
      "memory usage: 14.8+ KB\n"
     ]
    },
    {
     "data": {
      "text/plain": [
       "None"
      ]
     },
     "metadata": {},
     "output_type": "display_data"
    },
    {
     "data": {
      "text/html": [
       "<div>\n",
       "<style scoped>\n",
       "    .dataframe tbody tr th:only-of-type {\n",
       "        vertical-align: middle;\n",
       "    }\n",
       "\n",
       "    .dataframe tbody tr th {\n",
       "        vertical-align: top;\n",
       "    }\n",
       "\n",
       "    .dataframe thead th {\n",
       "        text-align: right;\n",
       "    }\n",
       "</style>\n",
       "<table border=\"1\" class=\"dataframe\">\n",
       "  <thead>\n",
       "    <tr style=\"text-align: right;\">\n",
       "      <th></th>\n",
       "      <th>Unnamed: 0</th>\n",
       "      <th>date</th>\n",
       "      <th>home_score</th>\n",
       "      <th>away_score</th>\n",
       "      <th>year</th>\n",
       "      <th>total_goals</th>\n",
       "    </tr>\n",
       "  </thead>\n",
       "  <tbody>\n",
       "    <tr>\n",
       "      <th>count</th>\n",
       "      <td>200.000000</td>\n",
       "      <td>200</td>\n",
       "      <td>200.000000</td>\n",
       "      <td>200.000000</td>\n",
       "      <td>200.00000</td>\n",
       "      <td>200.000000</td>\n",
       "    </tr>\n",
       "    <tr>\n",
       "      <th>mean</th>\n",
       "      <td>3094.485000</td>\n",
       "      <td>2012-10-01 04:04:48</td>\n",
       "      <td>1.805000</td>\n",
       "      <td>1.175000</td>\n",
       "      <td>2012.20000</td>\n",
       "      <td>2.980000</td>\n",
       "    </tr>\n",
       "    <tr>\n",
       "      <th>min</th>\n",
       "      <td>1600.000000</td>\n",
       "      <td>2003-09-20 00:00:00</td>\n",
       "      <td>0.000000</td>\n",
       "      <td>0.000000</td>\n",
       "      <td>2003.00000</td>\n",
       "      <td>0.000000</td>\n",
       "    </tr>\n",
       "    <tr>\n",
       "      <th>25%</th>\n",
       "      <td>2155.750000</td>\n",
       "      <td>2007-09-17 18:00:00</td>\n",
       "      <td>1.000000</td>\n",
       "      <td>0.000000</td>\n",
       "      <td>2007.00000</td>\n",
       "      <td>2.000000</td>\n",
       "    </tr>\n",
       "    <tr>\n",
       "      <th>50%</th>\n",
       "      <td>3429.500000</td>\n",
       "      <td>2015-06-07 12:00:00</td>\n",
       "      <td>1.000000</td>\n",
       "      <td>1.000000</td>\n",
       "      <td>2015.00000</td>\n",
       "      <td>3.000000</td>\n",
       "    </tr>\n",
       "    <tr>\n",
       "      <th>75%</th>\n",
       "      <td>4418.250000</td>\n",
       "      <td>2019-06-08 00:00:00</td>\n",
       "      <td>2.000000</td>\n",
       "      <td>2.000000</td>\n",
       "      <td>2019.00000</td>\n",
       "      <td>4.000000</td>\n",
       "    </tr>\n",
       "    <tr>\n",
       "      <th>max</th>\n",
       "      <td>4469.000000</td>\n",
       "      <td>2019-07-07 00:00:00</td>\n",
       "      <td>13.000000</td>\n",
       "      <td>7.000000</td>\n",
       "      <td>2019.00000</td>\n",
       "      <td>13.000000</td>\n",
       "    </tr>\n",
       "    <tr>\n",
       "      <th>std</th>\n",
       "      <td>1010.682192</td>\n",
       "      <td>NaN</td>\n",
       "      <td>1.937977</td>\n",
       "      <td>1.289453</td>\n",
       "      <td>5.68521</td>\n",
       "      <td>2.022387</td>\n",
       "    </tr>\n",
       "  </tbody>\n",
       "</table>\n",
       "</div>"
      ],
      "text/plain": [
       "        Unnamed: 0                 date  home_score  away_score        year  \\\n",
       "count   200.000000                  200  200.000000  200.000000   200.00000   \n",
       "mean   3094.485000  2012-10-01 04:04:48    1.805000    1.175000  2012.20000   \n",
       "min    1600.000000  2003-09-20 00:00:00    0.000000    0.000000  2003.00000   \n",
       "25%    2155.750000  2007-09-17 18:00:00    1.000000    0.000000  2007.00000   \n",
       "50%    3429.500000  2015-06-07 12:00:00    1.000000    1.000000  2015.00000   \n",
       "75%    4418.250000  2019-06-08 00:00:00    2.000000    2.000000  2019.00000   \n",
       "max    4469.000000  2019-07-07 00:00:00   13.000000    7.000000  2019.00000   \n",
       "std    1010.682192                  NaN    1.937977    1.289453     5.68521   \n",
       "\n",
       "       total_goals  \n",
       "count   200.000000  \n",
       "mean      2.980000  \n",
       "min       0.000000  \n",
       "25%       2.000000  \n",
       "50%       3.000000  \n",
       "75%       4.000000  \n",
       "max      13.000000  \n",
       "std       2.022387  "
      ]
     },
     "metadata": {},
     "output_type": "display_data"
    },
    {
     "name": "stdout",
     "output_type": "stream",
     "text": [
      "<class 'pandas.core.frame.DataFrame'>\n",
      "Index: 384 entries, 25164 to 44352\n",
      "Data columns (total 9 columns):\n",
      " #   Column       Non-Null Count  Dtype         \n",
      "---  ------       --------------  -----         \n",
      " 0   Unnamed: 0   384 non-null    int64         \n",
      " 1   date         384 non-null    datetime64[ns]\n",
      " 2   home_team    384 non-null    object        \n",
      " 3   away_team    384 non-null    object        \n",
      " 4   home_score   384 non-null    int64         \n",
      " 5   away_score   384 non-null    int64         \n",
      " 6   tournament   384 non-null    object        \n",
      " 7   year         384 non-null    int32         \n",
      " 8   total_goals  384 non-null    int64         \n",
      "dtypes: datetime64[ns](1), int32(1), int64(4), object(3)\n",
      "memory usage: 28.5+ KB\n"
     ]
    },
    {
     "data": {
      "text/plain": [
       "None"
      ]
     },
     "metadata": {},
     "output_type": "display_data"
    },
    {
     "data": {
      "text/html": [
       "<div>\n",
       "<style scoped>\n",
       "    .dataframe tbody tr th:only-of-type {\n",
       "        vertical-align: middle;\n",
       "    }\n",
       "\n",
       "    .dataframe tbody tr th {\n",
       "        vertical-align: top;\n",
       "    }\n",
       "\n",
       "    .dataframe thead th {\n",
       "        text-align: right;\n",
       "    }\n",
       "</style>\n",
       "<table border=\"1\" class=\"dataframe\">\n",
       "  <thead>\n",
       "    <tr style=\"text-align: right;\">\n",
       "      <th></th>\n",
       "      <th>Unnamed: 0</th>\n",
       "      <th>date</th>\n",
       "      <th>home_score</th>\n",
       "      <th>away_score</th>\n",
       "      <th>year</th>\n",
       "      <th>total_goals</th>\n",
       "    </tr>\n",
       "  </thead>\n",
       "  <tbody>\n",
       "    <tr>\n",
       "      <th>count</th>\n",
       "      <td>384.000000</td>\n",
       "      <td>384</td>\n",
       "      <td>384.000000</td>\n",
       "      <td>384.000000</td>\n",
       "      <td>384.000000</td>\n",
       "      <td>384.000000</td>\n",
       "    </tr>\n",
       "    <tr>\n",
       "      <th>mean</th>\n",
       "      <td>34629.875000</td>\n",
       "      <td>2012-07-16 16:52:30</td>\n",
       "      <td>1.375000</td>\n",
       "      <td>1.138021</td>\n",
       "      <td>2012.000000</td>\n",
       "      <td>2.513021</td>\n",
       "    </tr>\n",
       "    <tr>\n",
       "      <th>min</th>\n",
       "      <td>25164.000000</td>\n",
       "      <td>2002-05-31 00:00:00</td>\n",
       "      <td>0.000000</td>\n",
       "      <td>0.000000</td>\n",
       "      <td>2002.000000</td>\n",
       "      <td>0.000000</td>\n",
       "    </tr>\n",
       "    <tr>\n",
       "      <th>25%</th>\n",
       "      <td>28769.750000</td>\n",
       "      <td>2006-06-19 18:00:00</td>\n",
       "      <td>0.000000</td>\n",
       "      <td>0.000000</td>\n",
       "      <td>2006.000000</td>\n",
       "      <td>1.000000</td>\n",
       "    </tr>\n",
       "    <tr>\n",
       "      <th>50%</th>\n",
       "      <td>34557.000000</td>\n",
       "      <td>2012-06-26 00:00:00</td>\n",
       "      <td>1.000000</td>\n",
       "      <td>1.000000</td>\n",
       "      <td>2012.000000</td>\n",
       "      <td>2.000000</td>\n",
       "    </tr>\n",
       "    <tr>\n",
       "      <th>75%</th>\n",
       "      <td>40385.250000</td>\n",
       "      <td>2018-06-24 06:00:00</td>\n",
       "      <td>2.000000</td>\n",
       "      <td>2.000000</td>\n",
       "      <td>2018.000000</td>\n",
       "      <td>3.000000</td>\n",
       "    </tr>\n",
       "    <tr>\n",
       "      <th>max</th>\n",
       "      <td>44352.000000</td>\n",
       "      <td>2022-12-18 00:00:00</td>\n",
       "      <td>8.000000</td>\n",
       "      <td>7.000000</td>\n",
       "      <td>2022.000000</td>\n",
       "      <td>8.000000</td>\n",
       "    </tr>\n",
       "    <tr>\n",
       "      <th>std</th>\n",
       "      <td>6566.923215</td>\n",
       "      <td>NaN</td>\n",
       "      <td>1.328538</td>\n",
       "      <td>1.107398</td>\n",
       "      <td>6.840213</td>\n",
       "      <td>1.652544</td>\n",
       "    </tr>\n",
       "  </tbody>\n",
       "</table>\n",
       "</div>"
      ],
      "text/plain": [
       "         Unnamed: 0                 date  home_score  away_score         year  \\\n",
       "count    384.000000                  384  384.000000  384.000000   384.000000   \n",
       "mean   34629.875000  2012-07-16 16:52:30    1.375000    1.138021  2012.000000   \n",
       "min    25164.000000  2002-05-31 00:00:00    0.000000    0.000000  2002.000000   \n",
       "25%    28769.750000  2006-06-19 18:00:00    0.000000    0.000000  2006.000000   \n",
       "50%    34557.000000  2012-06-26 00:00:00    1.000000    1.000000  2012.000000   \n",
       "75%    40385.250000  2018-06-24 06:00:00    2.000000    2.000000  2018.000000   \n",
       "max    44352.000000  2022-12-18 00:00:00    8.000000    7.000000  2022.000000   \n",
       "std     6566.923215                  NaN    1.328538    1.107398     6.840213   \n",
       "\n",
       "       total_goals  \n",
       "count   384.000000  \n",
       "mean      2.513021  \n",
       "min       0.000000  \n",
       "25%       1.000000  \n",
       "50%       2.000000  \n",
       "75%       3.000000  \n",
       "max       8.000000  \n",
       "std       1.652544  "
      ]
     },
     "metadata": {},
     "output_type": "display_data"
    }
   ],
   "source": [
    "display(df_women_results_FIFA2002.info())\n",
    "\n",
    "display(df_women_results_FIFA2002.describe())\n",
    "\n",
    "display(df_men_results_FIFA2002.info())\n",
    "\n",
    "display(df_men_results_FIFA2002.describe())"
   ]
  },
  {
   "cell_type": "code",
   "execution_count": 49,
   "id": "c7a13e23",
   "metadata": {},
   "outputs": [
    {
     "name": "stdout",
     "output_type": "stream",
     "text": [
      "2.98\n",
      "2.5130208333333335\n"
     ]
    }
   ],
   "source": [
    "mean_women_goals = df_women_results_FIFA2002['total_goals'].mean()\n",
    "print(mean_women_goals)\n",
    "\n",
    "mean_men_goals = df_men_results_FIFA2002['total_goals'].mean()\n",
    "print(mean_men_goals)"
   ]
  },
  {
   "cell_type": "code",
   "execution_count": null,
   "id": "9942cb9c",
   "metadata": {},
   "outputs": [],
   "source": [
    "alpha = 0.1 ### assuming a 10% significance level\n",
    "\n",
    "### Non-parametric ANOVA and unpaired t-tests\n",
    "\n",
    "# H0: The mean number of goals scored in women's international \n",
    "# soccer matches is the same as men's.\n",
    "\n",
    "# mean_women_goals = mean_men_goals\n",
    "# H0: mean_women_goals - mean_men_goals = 0\n",
    "\n",
    "\n",
    "# Ha: The mean number of goals scored in women's international\n",
    "#  soccer matches is greater than men's.\n",
    "\n",
    "# mean_women_goals > mean_men_goals\n",
    "# Ha: mean_women_goals - mean_men_goals > 0"
   ]
  },
  {
   "cell_type": "code",
   "execution_count": 79,
   "id": "8e2b3125",
   "metadata": {},
   "outputs": [
    {
     "name": "stdout",
     "output_type": "stream",
     "text": [
      "       U-val alternative     p-val       RBC      CLES\n",
      "MWU  43273.0     greater  0.005107  0.126901  0.563451\n"
     ]
    }
   ],
   "source": [
    "ttest = pingouin.mwu(x=df_women_results_FIFA2002['total_goals'],\n",
    "            y=df_men_results_FIFA2002['total_goals'],\n",
    "            alternative='greater')\n",
    "print(ttest)"
   ]
  },
  {
   "cell_type": "code",
   "execution_count": 80,
   "id": "1b7e9ce2",
   "metadata": {},
   "outputs": [
    {
     "name": "stdout",
     "output_type": "stream",
     "text": [
      "{'p_val': 0.005106609825443641, 'result': 'reject'}\n"
     ]
    }
   ],
   "source": [
    "p_val = ttest.loc['MWU', 'p-val']\n",
    "\n",
    "result_dict = {\n",
    "    \"p_val\": p_val,\n",
    "    \"result\": \"fail to reject\" if p_val > alpha else \"reject\"\n",
    "}\n",
    "\n",
    "print(result_dict)"
   ]
  }
 ],
 "metadata": {
  "kernelspec": {
   "display_name": "Python 3",
   "language": "python",
   "name": "python3"
  },
  "language_info": {
   "codemirror_mode": {
    "name": "ipython",
    "version": 3
   },
   "file_extension": ".py",
   "mimetype": "text/x-python",
   "name": "python",
   "nbconvert_exporter": "python",
   "pygments_lexer": "ipython3",
   "version": "3.10.0"
  }
 },
 "nbformat": 4,
 "nbformat_minor": 5
}
